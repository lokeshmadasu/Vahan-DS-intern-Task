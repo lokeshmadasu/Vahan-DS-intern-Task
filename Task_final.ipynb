{
  "nbformat": 4,
  "nbformat_minor": 0,
  "metadata": {
    "colab": {
      "name": "Task.ipynb",
      "provenance": [],
      "collapsed_sections": []
    },
    "kernelspec": {
      "name": "python3",
      "display_name": "Python 3"
    }
  },
  "cells": [
    {
      "cell_type": "markdown",
      "metadata": {
        "id": "f6zELi0ppIAI",
        "colab_type": "text"
      },
      "source": [
        "<h2>Installing tesseract and pyPDF4:</h2>"
      ]
    },
    {
      "cell_type": "code",
      "metadata": {
        "id": "qDsXodlQJFRt",
        "colab_type": "code",
        "colab": {}
      },
      "source": [
        "!apt-get install python-dev libxml2-dev libxslt1-dev antiword unrtf poppler-utils pstotext tesseract-ocr \\\n",
        "flac ffmpeg lame libmad0 libsox-fmt-mp3 sox libjpeg-dev swig libpulse-dev"
      ],
      "execution_count": 0,
      "outputs": []
    },
    {
      "cell_type": "code",
      "metadata": {
        "id": "KLIMQQiUINjp",
        "colab_type": "code",
        "colab": {}
      },
      "source": [
        "!pip install textract"
      ],
      "execution_count": 0,
      "outputs": []
    },
    {
      "cell_type": "code",
      "metadata": {
        "id": "cRkZUxdToBaa",
        "colab_type": "code",
        "colab": {}
      },
      "source": [
        "!pip install pyPDF4"
      ],
      "execution_count": 0,
      "outputs": []
    },
    {
      "cell_type": "markdown",
      "metadata": {
        "id": "OtO569smp_FG",
        "colab_type": "text"
      },
      "source": [
        "<h2>Final Model </h2>"
      ]
    },
    {
      "cell_type": "code",
      "metadata": {
        "id": "4IZbjgF5paoB",
        "colab_type": "code",
        "colab": {}
      },
      "source": [
        "## Below packages are need to be installed\n",
        "import requests\n",
        "import pandas as pd\n",
        "import re\n",
        "import textract\n",
        "import PyPDF4\n",
        "from PyPDF4 import PdfFileReader, PdfFileWriter"
      ],
      "execution_count": 0,
      "outputs": []
    },
    {
      "cell_type": "markdown",
      "metadata": {
        "id": "WhC8DPWW859g",
        "colab_type": "text"
      },
      "source": [
        "<h2>1.Downloading the pdf from target url:</h2>"
      ]
    },
    {
      "cell_type": "code",
      "metadata": {
        "id": "9LLV4GTBUbQH",
        "colab_type": "code",
        "colab": {}
      },
      "source": [
        "### downloading the pdf\n",
        "\n",
        "url = 'http://ceo.karnataka.gov.in/finalrolls_2020/English/MR/AC163/S10A163P1.pdf'\n",
        "\n",
        "## sending http request\n",
        "res = requests.get(url).content\n",
        "\n",
        "## writing the response to a file\n",
        "## give your own path below\n",
        "with open(\"/content/downloaded.pdf\",\"wb\") as f:\n",
        "    f.write(res)"
      ],
      "execution_count": 0,
      "outputs": []
    },
    {
      "cell_type": "code",
      "metadata": {
        "id": "5rFRiDY5ynMY",
        "colab_type": "code",
        "colab": {}
      },
      "source": [
        ""
      ],
      "execution_count": 0,
      "outputs": []
    },
    {
      "cell_type": "markdown",
      "metadata": {
        "id": "p7lI9hxG9Gk9",
        "colab_type": "text"
      },
      "source": [
        "<h2>2.Splitting the pdf into pages(individul pdfs):</h2>"
      ]
    },
    {
      "cell_type": "code",
      "metadata": {
        "id": "e6Uefkvu0dNb",
        "colab_type": "code",
        "colab": {}
      },
      "source": [
        "## Reason behind splitting main pdf into individual pdfs:\n",
        "## if we split the main pdf into multiple pdfs(each refers to corresponding page) we can easily debug the output.\n",
        "## so that we can able to analyze any page using this method"
      ],
      "execution_count": 0,
      "outputs": []
    },
    {
      "cell_type": "code",
      "metadata": {
        "id": "yDZT68Ri756g",
        "colab_type": "code",
        "colab": {}
      },
      "source": [
        "## Here i am splitting main pdf into multiple pdfs where each pdf refers to corresponding page in main pdf file.\n",
        "## Below path should be same as above path\n",
        "pdf_file_path = \"/content/downloaded.pdf\"\n",
        "\n",
        "## Creating PdfFileReader object\n",
        "pdf_reader =  PdfFileReader(pdf_file_path)\n",
        "\n",
        "## Getting total number of pages in main-pdf\n",
        "total_num_of_pages = pdf_reader.getNumPages()\n",
        "\n",
        "## iterating over all pages in main-pdf\n",
        "for each_page in range(total_num_of_pages):\n",
        "    pdf_writer = PdfFileWriter()\n",
        "    pg = pdf_reader.getPage(each_page)\n",
        "    pdf_writer.addPage(pg)\n",
        "  \n",
        "    ## output path\n",
        "    output_file_name = f'page_{each_page}.pdf'\n",
        "\n",
        "    ## writing each page as pdf file(page_0,page_1,page_2.......)\n",
        "    with open(output_file_name, 'wb') as fl:\n",
        "      pdf_writer.write(fl)"
      ],
      "execution_count": 0,
      "outputs": []
    },
    {
      "cell_type": "code",
      "metadata": {
        "id": "kXvkOUOkUbIR",
        "colab_type": "code",
        "colab": {}
      },
      "source": [
        ""
      ],
      "execution_count": 0,
      "outputs": []
    },
    {
      "cell_type": "markdown",
      "metadata": {
        "id": "QY53ozd09xP5",
        "colab_type": "text"
      },
      "source": [
        "\n",
        "<h2>3.Extracting Names from pdfs:</h2>"
      ]
    },
    {
      "cell_type": "code",
      "metadata": {
        "id": "Vmb2egPAUX9T",
        "colab_type": "code",
        "colab": {
          "base_uri": "https://localhost:8080/",
          "height": 765
        },
        "outputId": "e071bbde-11ae-4831-a2e9-6ec73bc0c7d0"
      },
      "source": [
        "## Extracting both person name and his relative name from  each page.pdf\n",
        "total_pages = total_num_of_pages\n",
        "final_names_list = []\n",
        "final_father_names_list = []\n",
        "final_page_numbers_list = []\n",
        "\n",
        "## iterating over all pages pdfs\n",
        "for each_page in range(total_pages):\n",
        "\n",
        "  names_list = []\n",
        "  father_names_list = []\n",
        "  page_numbers_list = []\n",
        "  ## Below input_path should be same as output path in above module(i.e splitting pdf)\n",
        "  input_path = '/content/page_'+str(each_page)+'.pdf'\n",
        "\n",
        "  ## Using textract i have extracted data from pdf\n",
        "  page_data = textract.process(input_path, method='tesseract' , language='eng')\n",
        "  ## textract output format is byte-stream and \n",
        "\n",
        "  ## converting the byte-stream data to string format , so that we can perform our some string operations on it. \n",
        "  total_page_data = page_data.decode('utf-8')\n",
        "\n",
        "  ## splitting the page_data line by line\n",
        "  total_page = total_page_data.splitlines()\n",
        "  #print(total_page)\n",
        "  for each_line in range(len(total_page)-1):\n",
        "    #print(each_line)\n",
        "\n",
        "    ## replacing the unwanted characters with empty string\n",
        "    first_line = total_page[each_line].replace(':','')\n",
        "    first_line = first_line.replace('=','')\n",
        "    first_line = first_line.replace(\"-\",'')\n",
        "    next_line = total_page[each_line+1].replace(\":\",'')\n",
        "    next_line = next_line.replace('=','')\n",
        "    next_line = next_line.replace('-','')\n",
        "\n",
        "    ## finding the frequency of word \"Name\" in the line\n",
        "    name_freq_in_first_line = len(re.findall('Name',first_line))\n",
        "\n",
        "    ## finding the frequency of word \"Name\"  in the next_line.which is after above line\n",
        "    name_freq_in_second_line = len(re.findall('Name',next_line))\n",
        "\n",
        "    ## cond-1 and cond-2 --->Here i am simply accesing those lines where first line starts with Name and second line(next_line) starts with Father's Name or Husband's Name or Mother's Name or Other's Name\n",
        "    ## cond-3--> To avoid mismating fathers name with person name\n",
        "    ## i am cheking the  word \"Name\" frequency in both lines,if both count equals we are good to go otherwise father's name and person name will get mismatched\n",
        "    if(first_line.startswith('Name') and (name_freq_in_first_line==name_freq_in_second_line) and (total_page[each_line+1].startswith(\"Father's Name\") or total_page[each_line+1].startswith(\"Mother's Name\") or total_page[each_line+1].startswith(\"Husband's Name\"))):\n",
        "      line = first_line.split(\"Name\")\n",
        "      for each_item in line:\n",
        "        if(each_item!=''):\n",
        "            each_item = each_item.strip()\n",
        "            names_list.append(each_item)\n",
        "      \n",
        "      ## Below code is responsible for extracting father's name from next line(second_line)\n",
        "      line = re.split(\"Father's Name|Mother's Name|Husband's Name|Other's Name\",next_line)\n",
        "      for each_item in line:\n",
        "        if(each_item!=''):\n",
        "            each_item = each_item.strip()\n",
        "            father_names_list.append(each_item)\n",
        "            page_numbers_list.append(each_page)\n",
        "    else:\n",
        "      pass\n",
        "  final_names_list.append(names_list)\n",
        "  final_father_names_list.append(father_names_list)\n",
        "  final_page_numbers_list.append(page_numbers_list)\n",
        "  print(\"Number of pages completed {0}\".format(each_page))"
      ],
      "execution_count": 20,
      "outputs": [
        {
          "output_type": "stream",
          "text": [
            "Number of pages completed 0\n",
            "Number of pages completed 1\n",
            "Number of pages completed 2\n",
            "Number of pages completed 3\n",
            "Number of pages completed 4\n",
            "Number of pages completed 5\n",
            "Number of pages completed 6\n",
            "Number of pages completed 7\n",
            "Number of pages completed 8\n",
            "Number of pages completed 9\n",
            "Number of pages completed 10\n",
            "Number of pages completed 11\n",
            "Number of pages completed 12\n",
            "Number of pages completed 13\n",
            "Number of pages completed 14\n",
            "Number of pages completed 15\n",
            "Number of pages completed 16\n",
            "Number of pages completed 17\n",
            "Number of pages completed 18\n",
            "Number of pages completed 19\n",
            "Number of pages completed 20\n",
            "Number of pages completed 21\n",
            "Number of pages completed 22\n",
            "Number of pages completed 23\n",
            "Number of pages completed 24\n",
            "Number of pages completed 25\n",
            "Number of pages completed 26\n",
            "Number of pages completed 27\n",
            "Number of pages completed 28\n",
            "Number of pages completed 29\n",
            "Number of pages completed 30\n",
            "Number of pages completed 31\n",
            "Number of pages completed 32\n",
            "Number of pages completed 33\n",
            "Number of pages completed 34\n",
            "Number of pages completed 35\n",
            "Number of pages completed 36\n",
            "Number of pages completed 37\n",
            "Number of pages completed 38\n",
            "Number of pages completed 39\n",
            "Number of pages completed 40\n",
            "Number of pages completed 41\n",
            "Number of pages completed 42\n",
            "Number of pages completed 43\n"
          ],
          "name": "stdout"
        }
      ]
    },
    {
      "cell_type": "code",
      "metadata": {
        "id": "2ueR1XNCsI4L",
        "colab_type": "code",
        "colab": {}
      },
      "source": [
        ""
      ],
      "execution_count": 0,
      "outputs": []
    },
    {
      "cell_type": "code",
      "metadata": {
        "id": "zAy7HydCG6r_",
        "colab_type": "code",
        "colab": {}
      },
      "source": [
        "### To eliminate non-ascii values(illegal characters)\n",
        "def non_ascii(text):\n",
        "\treturn \"\".join([(i if ord(i)<128 else \" \") for i in text])"
      ],
      "execution_count": 0,
      "outputs": []
    },
    {
      "cell_type": "code",
      "metadata": {
        "id": "CJUlyEExrNou",
        "colab_type": "code",
        "colab": {}
      },
      "source": [
        ""
      ],
      "execution_count": 0,
      "outputs": []
    },
    {
      "cell_type": "code",
      "metadata": {
        "id": "aDVEF8N8RVEb",
        "colab_type": "code",
        "colab": {}
      },
      "source": [
        "def preprocess(str1):\n",
        "  str1 = str(str1).lower()\n",
        "  ## removing prefixes such as Mr, Mrs, Dr .. before any name\n",
        "  str1 = str1.replace(\"mrs.\",'')\n",
        "  str1 = str1.replace(\"mr.\",'')\n",
        "  str1 = str1.replace(\"dr.\",'')\n",
        "  ## removing some special chars\n",
        "  str1 = str1.replace(\".\",' ')\n",
        "  str1 = str1.replace(\"\\\\\",'')\n",
        "  str1 = str1.replace(\"'\",'')\n",
        "  str1 = str1.replace(\"$\",'')\n",
        "  str1 = str1.replace(\"_\",'')\n",
        "  str1 = str1.replace(\"|\",'')\n",
        "  str1 = str1.replace(\";\",'')\n",
        "  ## removing digits if any present in names\n",
        "  str1 = ''.join([i for i in str1 if not i.isdigit()]) \n",
        "  ## Converting to ascii format(removing illegal characters if any present ) \n",
        "  str1 = non_ascii(str1)\n",
        "  str1 = str1.replace(\"  \",\" \") ### replacing two spaces with one space\n",
        "  str1 = str1.strip()\n",
        "\n",
        "  return str1"
      ],
      "execution_count": 0,
      "outputs": []
    },
    {
      "cell_type": "code",
      "metadata": {
        "id": "M3DHeyW6sJVc",
        "colab_type": "code",
        "colab": {}
      },
      "source": [
        "all_names_list = [preprocess(name) for each_list in final_names_list for name in each_list]\n",
        "all_father_names_list = [preprocess(name) for each_list in final_father_names_list for name in each_list]\n",
        "all_page_numbers_list = [pn for each_sub_list in final_page_numbers_list for pn in each_sub_list]"
      ],
      "execution_count": 0,
      "outputs": []
    },
    {
      "cell_type": "code",
      "metadata": {
        "id": "6_HXwH_RrOY5",
        "colab_type": "code",
        "colab": {}
      },
      "source": [
        ""
      ],
      "execution_count": 0,
      "outputs": []
    },
    {
      "cell_type": "markdown",
      "metadata": {
        "id": "g3M3303irXiC",
        "colab_type": "text"
      },
      "source": [
        "<h3> Splitting the name into initials:</h3>"
      ]
    },
    {
      "cell_type": "code",
      "metadata": {
        "id": "RWmZNEzkk-4Q",
        "colab_type": "code",
        "colab": {}
      },
      "source": [
        "## *NOTE* : All names are in different format means some names are written in first name , last name format and\n",
        "## some are written in last name first name format\n",
        "## i have followed first name , middle name , last name format\n",
        "\n",
        "def split_name(all_names_list):\n",
        "  count = 0\n",
        "  index = 0\n",
        "  final_all_names_list = []\n",
        "  index_list = []\n",
        "  \n",
        "  ## iterating over all the names\n",
        "  for each_name in all_names_list:\n",
        "      each_name_list = each_name.split()\n",
        "\n",
        "      ## if length of the name equals to 3 it goes to below block\n",
        "      if(len(each_name_list)==3):\n",
        "        first_name = each_name_list[0]\n",
        "        middle_name = each_name_list[1]\n",
        "        last_name = each_name_list[2]\n",
        "\n",
        "      ## if length of the name equals to 2 it goes to below block\n",
        "      elif(len(each_name_list)==2):\n",
        "        first_name = each_name_list[0]\n",
        "        middle_name = 'na'\n",
        "        last_name = each_name_list[1]\n",
        "      \n",
        "      ## if length of the name equals to 1 it goes to below block\n",
        "      elif(len(each_name_list)==1):\n",
        "        first_name = each_name_list[0]\n",
        "        middle_name = 'na'\n",
        "        last_name = 'na'\n",
        "      \n",
        "      ## if length of the name is greater than 3 it goes to below block\n",
        "      else:\n",
        "        first_name = \"na\"\n",
        "        middle_name = \"na\"\n",
        "        last_name = \"na\"\n",
        "        count+=1\n",
        "        index_list.append(index)\n",
        "      obj = {\n",
        "          \"first_name\":first_name,\n",
        "          \"middle_name\":middle_name,\n",
        "          \"last_name\":last_name  \n",
        "      }\n",
        "      #print(obj)\n",
        "      index+=1\n",
        "      final_all_names_list.append(obj)\n",
        "  return final_all_names_list    "
      ],
      "execution_count": 0,
      "outputs": []
    },
    {
      "cell_type": "markdown",
      "metadata": {
        "id": "w4Ff6peO-BSp",
        "colab_type": "text"
      },
      "source": [
        "<h2>4.Write data into CSV file:</h2>"
      ]
    },
    {
      "cell_type": "code",
      "metadata": {
        "id": "q_cq4k6C2wXP",
        "colab_type": "code",
        "colab": {
          "base_uri": "https://localhost:8080/",
          "height": 255
        },
        "outputId": "e809f9c0-f703-4152-91ed-1742bf6f0003"
      },
      "source": [
        "d = {}\n",
        "d['Full_name'] = all_names_list\n",
        "d['Relative_name'] = all_father_names_list\n",
        "d[\"Page_number\"]  = all_page_numbers_list\n",
        "\n",
        "## df1 is a dataframe and columns are Full name,Relative name and page_number\n",
        "df1 = pd.DataFrame(data=d )\n",
        "\n",
        "## df2 is a data frame in which  columns are First name, middle name  and last name \n",
        "df2 = pd.DataFrame(data=split_name(all_names_list))\n",
        "\n",
        "## joining the two dataframes into final one(which is df3)\n",
        "## it contains all the six columns which are  First name middle name last name, Full name,Relative name ,Page_number.\n",
        "df3 = df2.join(df1)\n",
        "print(df3)\n",
        "\n",
        "## give your path to save the csv file\n",
        "df3.to_csv('/content/Final_data.csv')"
      ],
      "execution_count": 45,
      "outputs": [
        {
          "output_type": "stream",
          "text": [
            "    first_name middle_name  ...     Relative_name Page_number\n",
            "0        meera       mohan  ...   mohan bharavani           2\n",
            "1      brijaya           n  ...  narain das kalro           2\n",
            "2           cg        arun  ...   c g gunashekarn           2\n",
            "3        henna          na  ...    brijay n kalro           2\n",
            "4         yash           b  ...    brijay n kalro           2\n",
            "..         ...         ...  ...               ...         ...\n",
            "992      tarun          na  ...        roy mammen          42\n",
            "993    sandhya          na  ...            ananth          42\n",
            "994         kb          na  ...        kk bopanna          42\n",
            "995     miriam          na  ...        roy mammen          42\n",
            "996     aaliya          na  ...     nazir hussain          42\n",
            "\n",
            "[997 rows x 6 columns]\n"
          ],
          "name": "stdout"
        }
      ]
    },
    {
      "cell_type": "code",
      "metadata": {
        "id": "Zjw4qyFCZcrn",
        "colab_type": "code",
        "colab": {}
      },
      "source": [
        ""
      ],
      "execution_count": 0,
      "outputs": []
    }
  ]
}